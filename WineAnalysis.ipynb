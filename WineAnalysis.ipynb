{
  "cells": [
    {
      "cell_type": "code",
      "execution_count": 3,
      "id": "42068b40-5d65-4d7d-98e5-ae29ed19a4e0",
      "metadata": {
        "id": "42068b40-5d65-4d7d-98e5-ae29ed19a4e0"
      },
      "outputs": [],
      "source": [
        "# Load libraries\n",
        "import pandas as pd\n",
        "import numpy as np\n",
        "import matplotlib.pyplot as plt\n",
        "import seaborn as sns\n",
        "from sklearn.model_selection import train_test_split\n",
        "from sklearn.metrics import accuracy_score\n",
        "from sklearn.preprocessing import RobustScaler\n",
        "from mlxtend.feature_selection import SequentialFeatureSelector as SFS\n",
        "from mlxtend.plotting import plot_sequential_feature_selection as plot_sfs\n",
        "from sklearn.model_selection import GridSearchCV\n",
        "from sklearn.tree import DecisionTreeClassifier\n",
        "from sklearn.ensemble import RandomForestClassifier\n",
        "from sklearn.ensemble import AdaBoostClassifier\n",
        "from sklearn.ensemble import GradientBoostingClassifier\n",
        "from sklearn.neighbors import KNeighborsClassifier\n",
        "from sklearn.naive_bayes import GaussianNB\n",
        "from sklearn.svm import SVC\n",
        "from statistics import mean,stdev"
      ]
    },
    {
      "cell_type": "code",
      "execution_count": 4,
      "id": "3304c188-d269-4df6-b27b-6dab25ed5069",
      "metadata": {
        "id": "3304c188-d269-4df6-b27b-6dab25ed5069",
        "tags": []
      },
      "outputs": [],
      "source": [
        "# Read wine_data.csv using pandas library (pd object)\n",
        "df = pd.read_csv('./wine_data.csv')"
      ]
    },
    {
      "cell_type": "code",
      "execution_count": 5,
      "id": "93ed3659-0c66-4b72-a686-4205c72f6f97",
      "metadata": {
        "colab": {
          "base_uri": "https://localhost:8080/"
        },
        "id": "93ed3659-0c66-4b72-a686-4205c72f6f97",
        "outputId": "f64435fc-3904-4362-92e1-1de237177aea",
        "tags": []
      },
      "outputs": [
        {
          "data": {
            "text/plain": [
              "Index(['class', 'alcohol', 'malic_acid', 'ash', 'alcalinity_of_ash',\n",
              "       'magnesium', 'total_phenols', 'flavanoids', 'nonflavanoid_phenols',\n",
              "       'proanthocyanins', 'color_intensity', 'hue',\n",
              "       'OD280/OD315_of_diluted_wines', 'proline'],\n",
              "      dtype='object')"
            ]
          },
          "execution_count": 5,
          "metadata": {},
          "output_type": "execute_result"
        }
      ],
      "source": [
        "df.columns"
      ]
    },
    {
      "cell_type": "code",
      "execution_count": 6,
      "id": "5449254f-1939-4d84-a338-fbe2f7b4a0f2",
      "metadata": {
        "colab": {
          "base_uri": "https://localhost:8080/"
        },
        "id": "5449254f-1939-4d84-a338-fbe2f7b4a0f2",
        "outputId": "977afa3d-c20f-416e-8ed3-d4bc754bfd74"
      },
      "outputs": [
        {
          "data": {
            "text/plain": [
              "class\n",
              "1    59\n",
              "2    71\n",
              "3    48\n",
              "dtype: int64"
            ]
          },
          "execution_count": 6,
          "metadata": {},
          "output_type": "execute_result"
        }
      ],
      "source": [
        "# group wines by class and provide the size of each group\n",
        "# i.e. how many wines of each type there are in the dataset\n",
        "df.groupby('class').size()"
      ]
    },
    {
      "cell_type": "code",
      "execution_count": 7,
      "id": "05c11e54-8785-4769-9960-9327bbaa5ee3",
      "metadata": {
        "colab": {
          "base_uri": "https://localhost:8080/",
          "height": 350
        },
        "id": "05c11e54-8785-4769-9960-9327bbaa5ee3",
        "outputId": "62cfd36f-b5e5-4cdb-dd83-c3f04822a750"
      },
      "outputs": [
        {
          "data": {
            "text/plain": [
              "Text(0.5, 1.0, 'Count of Wines by Class')"
            ]
          },
          "execution_count": 7,
          "metadata": {},
          "output_type": "execute_result"
        },
        {
          "data": {
            "image/png": "[encoded data removed]",
            "text/plain": [
              "<Figure size 600x300 with 1 Axes>"
            ]
          },
          "metadata": {},
          "output_type": "display_data"
        }
      ],
      "source": [
        "# provide a seaborn countplot on the class column; use the Set1 palette\n",
        "sns.set_style(\"whitegrid\")\n",
        "sns.set_palette(\"Set1\")\n",
        "\n",
        "# Create the countplot\n",
        "plt.figure(figsize=(6, 3))\n",
        "sns.countplot(x='class', data=df)\n",
        "\n",
        "# Adding labels and title\n",
        "plt.xlabel('Wine Class')\n",
        "plt.ylabel('Count')\n",
        "plt.title('Count of Wines by Class')"
      ]
    },
    {
      "cell_type": "code",
      "execution_count": 20,
      "id": "1d6bd837-6c4c-4ef5-9fc6-d735773e05d1",
      "metadata": {
        "colab": {
          "base_uri": "https://localhost:8080/",
          "height": 320
        },
        "id": "1d6bd837-6c4c-4ef5-9fc6-d735773e05d1",
        "outputId": "c84ffe02-520a-4453-8828-55e77a098b3f"
      },
      "outputs": [
        {
          "data": {
            "application/vnd.google.colaboratory.intrinsic+json": {
              "summary": "{\n  \"name\": \"df\",\n  \"rows\": 8,\n  \"fields\": [\n    {\n      \"column\": \"class\",\n      \"properties\": {\n        \"dtype\": \"number\",\n        \"std\": 62.2964284117262,\n        \"min\": 0.7750349899850564,\n        \"max\": 178.0,\n        \"num_unique_values\": 6,\n        \"samples\": [\n          178.0,\n          1.9382022471910112,\n          3.0\n        ],\n        \"semantic_type\": \"\",\n        \"description\": \"\"\n      }\n    },\n    {\n      \"column\": \"alcohol\",\n      \"properties\": {\n        \"dtype\": \"number\",\n        \"std\": 59.11804622765535,\n        \"min\": 0.8118265380058575,\n        \"max\": 178.0,\n        \"num_unique_values\": 8,\n        \"samples\": [\n          13.00061797752809,\n          13.05,\n          178.0\n        ],\n        \"semantic_type\": \"\",\n        \"description\": \"\"\n      }\n    },\n    {\n      \"column\": \"malic_acid\",\n      \"properties\": {\n        \"dtype\": \"number\",\n        \"std\": 62.116878053835904,\n        \"min\": 0.74,\n        \"max\": 178.0,\n        \"num_unique_values\": 8,\n        \"samples\": [\n          2.3363483146067416,\n          1.8650000000000002,\n          178.0\n        ],\n        \"semantic_type\": \"\",\n        \"description\": \"\"\n      }\n    },\n    {\n      \"column\": \"ash\",\n      \"properties\": {\n        \"dtype\": \"number\",\n        \"std\": 62.213612771606805,\n        \"min\": 0.27434400906081485,\n        \"max\": 178.0,\n        \"num_unique_values\": 8,\n        \"samples\": [\n          2.3665168539325845,\n          2.36,\n          178.0\n        ],\n        \"semantic_type\": \"\",\n        \"description\": \"\"\n      }\n    },\n    {\n      \"column\": \"alcalinity_of_ash\",\n      \"properties\": {\n        \"dtype\": \"number\",\n        \"std\": 57.32526338306687,\n        \"min\": 3.339563767173505,\n        \"max\": 178.0,\n        \"num_unique_values\": 8,\n        \"samples\": [\n          19.49494382022472,\n          19.5,\n          178.0\n        ],\n        \"semantic_type\": \"\",\n        \"description\": \"\"\n      }\n    },\n    {\n      \"column\": \"magnesium\",\n      \"properties\": {\n        \"dtype\": \"number\",\n        \"std\": 51.18081686409121,\n        \"min\": 14.282483515295665,\n        \"max\": 178.0,\n        \"num_unique_values\": 8,\n        \"samples\": [\n          99.74157303370787,\n          98.0,\n          178.0\n        ],\n        \"semantic_type\": \"\",\n        \"description\": \"\"\n      }\n    },\n    {\n      \"column\": \"total_phenols\",\n      \"properties\": {\n        \"dtype\": \"number\",\n        \"std\": 62.19953212829461,\n        \"min\": 0.6258510488339893,\n        \"max\": 178.0,\n        \"num_unique_values\": 8,\n        \"samples\": [\n          2.295112359550562,\n          2.355,\n          178.0\n        ],\n        \"semantic_type\": \"\",\n        \"description\": \"\"\n      }\n    },\n    {\n      \"column\": \"flavanoids\",\n      \"properties\": {\n        \"dtype\": \"number\",\n        \"std\": 62.20866774807846,\n        \"min\": 0.34,\n        \"max\": 178.0,\n        \"num_unique_values\": 8,\n        \"samples\": [\n          2.0292696629213487,\n          2.135,\n          178.0\n        ],\n        \"semantic_type\": \"\",\n        \"description\": \"\"\n      }\n    },\n    {\n      \"column\": \"nonflavanoid_phenols\",\n      \"properties\": {\n        \"dtype\": \"number\",\n        \"std\": 62.81536936528359,\n        \"min\": 0.12445334029667937,\n        \"max\": 178.0,\n        \"num_unique_values\": 8,\n        \"samples\": [\n          0.3618539325842696,\n          0.34,\n          178.0\n        ],\n        \"semantic_type\": \"\",\n        \"description\": \"\"\n      }\n    },\n    {\n      \"column\": \"proanthocyanins\",\n      \"properties\": {\n        \"dtype\": \"number\",\n        \"std\": 62.389141510191415,\n        \"min\": 0.41,\n        \"max\": 178.0,\n        \"num_unique_values\": 8,\n        \"samples\": [\n          1.5908988764044945,\n          1.5550000000000002,\n          178.0\n        ],\n        \"semantic_type\": \"\",\n        \"description\": \"\"\n      }\n    },\n    {\n      \"column\": \"color_intensity\",\n      \"properties\": {\n        \"dtype\": \"number\",\n        \"std\": 61.23070389608627,\n        \"min\": 1.28,\n        \"max\": 178.0,\n        \"num_unique_values\": 8,\n        \"samples\": [\n          5.058089882022472,\n          4.6899999999999995,\n          178.0\n        ],\n        \"semantic_type\": \"\",\n        \"description\": \"\"\n      }\n    },\n    {\n      \"column\": \"hue\",\n      \"properties\": {\n        \"dtype\": \"number\",\n        \"std\": 62.618701002452724,\n        \"min\": 0.22857156582982338,\n        \"max\": 178.0,\n        \"num_unique_values\": 8,\n        \"samples\": [\n          0.9574494382022471,\n          0.965,\n          178.0\n        ],\n        \"semantic_type\": \"\",\n        \"description\": \"\"\n      }\n    },\n    {\n      \"column\": \"OD280/OD315_of_diluted_wines\",\n      \"properties\": {\n        \"dtype\": \"number\",\n        \"std\": 62.109005977625,\n        \"min\": 0.7099904287650504,\n        \"max\": 178.0,\n        \"num_unique_values\": 8,\n        \"samples\": [\n          2.6116853932584267,\n          2.78,\n          178.0\n        ],\n        \"semantic_type\": \"\",\n        \"description\": \"\"\n      }\n    },\n    {\n      \"column\": \"proline\",\n      \"properties\": {\n        \"dtype\": \"number\",\n        \"std\": 489.2848273029377,\n        \"min\": 178.0,\n        \"max\": 1680.0,\n        \"num_unique_values\": 8,\n        \"samples\": [\n          746.8932584269663,\n          673.5,\n          178.0\n        ],\n        \"semantic_type\": \"\",\n        \"description\": \"\"\n      }\n    }\n  ]\n}",
              "type": "dataframe"
            },
            "text/html": [
              "\n",
              "  <div id=\"df-c560cba3-3300-4b78-aa14-eb32124d7c10\" class=\"colab-df-container\">\n",
              "    <div>\n",
              "<style scoped>\n",
              "    .dataframe tbody tr th:only-of-type {\n",
              "        vertical-align: middle;\n",
              "    }\n",
              "\n",
              "    .dataframe tbody tr th {\n",
              "        vertical-align: top;\n",
              "    }\n",
              "\n",
              "    .dataframe thead th {\n",
              "        text-align: right;\n",
              "    }\n",
              "</style>\n",
              "<table border=\"1\" class=\"dataframe\">\n",
              "  <thead>\n",
              "    <tr style=\"text-align: right;\">\n",
              "      <th></th>\n",
              "      <th>class</th>\n",
              "      <th>alcohol</th>\n",
              "      <th>malic_acid</th>\n",
              "      <th>ash</th>\n",
              "      <th>alcalinity_of_ash</th>\n",
              "      <th>magnesium</th>\n",
              "      <th>total_phenols</th>\n",
              "      <th>flavanoids</th>\n",
              "      <th>nonflavanoid_phenols</th>\n",
              "      <th>proanthocyanins</th>\n",
              "      <th>color_intensity</th>\n",
              "      <th>hue</th>\n",
              "      <th>OD280/OD315_of_diluted_wines</th>\n",
              "      <th>proline</th>\n",
              "    </tr>\n",
              "  </thead>\n",
              "  <tbody>\n",
              "    <tr>\n",
              "      <th>count</th>\n",
              "      <td>178.000000</td>\n",
              "      <td>178.000000</td>\n",
              "      <td>178.000000</td>\n",
              "      <td>178.000000</td>\n",
              "      <td>178.000000</td>\n",
              "      <td>178.000000</td>\n",
              "      <td>178.000000</td>\n",
              "      <td>178.000000</td>\n",
              "      <td>178.000000</td>\n",
              "      <td>178.000000</td>\n",
              "      <td>178.000000</td>\n",
              "      <td>178.000000</td>\n",
              "      <td>178.000000</td>\n",
              "      <td>178.000000</td>\n",
              "    </tr>\n",
              "    <tr>\n",
              "      <th>mean</th>\n",
              "      <td>1.938202</td>\n",
              "      <td>13.000618</td>\n",
              "      <td>2.336348</td>\n",
              "      <td>2.366517</td>\n",
              "      <td>19.494944</td>\n",
              "      <td>99.741573</td>\n",
              "      <td>2.295112</td>\n",
              "      <td>2.029270</td>\n",
              "      <td>0.361854</td>\n",
              "      <td>1.590899</td>\n",
              "      <td>5.058090</td>\n",
              "      <td>0.957449</td>\n",
              "      <td>2.611685</td>\n",
              "      <td>746.893258</td>\n",
              "    </tr>\n",
              "    <tr>\n",
              "      <th>std</th>\n",
              "      <td>0.775035</td>\n",
              "      <td>0.811827</td>\n",
              "      <td>1.117146</td>\n",
              "      <td>0.274344</td>\n",
              "      <td>3.339564</td>\n",
              "      <td>14.282484</td>\n",
              "      <td>0.625851</td>\n",
              "      <td>0.998859</td>\n",
              "      <td>0.124453</td>\n",
              "      <td>0.572359</td>\n",
              "      <td>2.318286</td>\n",
              "      <td>0.228572</td>\n",
              "      <td>0.709990</td>\n",
              "      <td>314.907474</td>\n",
              "    </tr>\n",
              "    <tr>\n",
              "      <th>min</th>\n",
              "      <td>1.000000</td>\n",
              "      <td>11.030000</td>\n",
              "      <td>0.740000</td>\n",
              "      <td>1.360000</td>\n",
              "      <td>10.600000</td>\n",
              "      <td>70.000000</td>\n",
              "      <td>0.980000</td>\n",
              "      <td>0.340000</td>\n",
              "      <td>0.130000</td>\n",
              "      <td>0.410000</td>\n",
              "      <td>1.280000</td>\n",
              "      <td>0.480000</td>\n",
              "      <td>1.270000</td>\n",
              "      <td>278.000000</td>\n",
              "    </tr>\n",
              "    <tr>\n",
              "      <th>25%</th>\n",
              "      <td>1.000000</td>\n",
              "      <td>12.362500</td>\n",
              "      <td>1.602500</td>\n",
              "      <td>2.210000</td>\n",
              "      <td>17.200000</td>\n",
              "      <td>88.000000</td>\n",
              "      <td>1.742500</td>\n",
              "      <td>1.205000</td>\n",
              "      <td>0.270000</td>\n",
              "      <td>1.250000</td>\n",
              "      <td>3.220000</td>\n",
              "      <td>0.782500</td>\n",
              "      <td>1.937500</td>\n",
              "      <td>500.500000</td>\n",
              "    </tr>\n",
              "    <tr>\n",
              "      <th>50%</th>\n",
              "      <td>2.000000</td>\n",
              "      <td>13.050000</td>\n",
              "      <td>1.865000</td>\n",
              "      <td>2.360000</td>\n",
              "      <td>19.500000</td>\n",
              "      <td>98.000000</td>\n",
              "      <td>2.355000</td>\n",
              "      <td>2.135000</td>\n",
              "      <td>0.340000</td>\n",
              "      <td>1.555000</td>\n",
              "      <td>4.690000</td>\n",
              "      <td>0.965000</td>\n",
              "      <td>2.780000</td>\n",
              "      <td>673.500000</td>\n",
              "    </tr>\n",
              "    <tr>\n",
              "      <th>75%</th>\n",
              "      <td>3.000000</td>\n",
              "      <td>13.677500</td>\n",
              "      <td>3.082500</td>\n",
              "      <td>2.557500</td>\n",
              "      <td>21.500000</td>\n",
              "      <td>107.000000</td>\n",
              "      <td>2.800000</td>\n",
              "      <td>2.875000</td>\n",
              "      <td>0.437500</td>\n",
              "      <td>1.950000</td>\n",
              "      <td>6.200000</td>\n",
              "      <td>1.120000</td>\n",
              "      <td>3.170000</td>\n",
              "      <td>985.000000</td>\n",
              "    </tr>\n",
              "    <tr>\n",
              "      <th>max</th>\n",
              "      <td>3.000000</td>\n",
              "      <td>14.830000</td>\n",
              "      <td>5.800000</td>\n",
              "      <td>3.230000</td>\n",
              "      <td>30.000000</td>\n",
              "      <td>162.000000</td>\n",
              "      <td>3.880000</td>\n",
              "      <td>5.080000</td>\n",
              "      <td>0.660000</td>\n",
              "      <td>3.580000</td>\n",
              "      <td>13.000000</td>\n",
              "      <td>1.710000</td>\n",
              "      <td>4.000000</td>\n",
              "      <td>1680.000000</td>\n",
              "    </tr>\n",
              "  </tbody>\n",
              "</table>\n",
              "</div>\n",
              "    <div class=\"colab-df-buttons\">\n",
              "\n",
              "  <div class=\"colab-df-container\">\n",
              "    <button class=\"colab-df-convert\" onclick=\"convertToInteractive('df-c560cba3-3300-4b78-aa14-eb32124d7c10')\"\n",
              "            title=\"Convert this dataframe to an interactive table.\"\n",
              "            style=\"display:none;\">\n",
              "\n",
              "  <svg xmlns=\"http://www.w3.org/2000/svg\" height=\"24px\" viewBox=\"0 -960 960 960\">\n",
              "    <path d=\"M120-120v-720h720v720H120Zm60-500h600v-160H180v160Zm220 220h160v-160H400v160Zm0 220h160v-160H400v160ZM180-400h160v-160H180v160Zm440 0h160v-160H620v160ZM180-180h160v-160H180v160Zm440 0h160v-160H620v160Z\"/>\n",
              "  </svg>\n",
              "    </button>\n",
              "\n",
              "  <style>\n",
              "    .colab-df-container {\n",
              "      display:flex;\n",
              "      gap: 12px;\n",
              "    }\n",
              "\n",
              "    .colab-df-convert {\n",
              "      background-color: #E8F0FE;\n",
              "      border: none;\n",
              "      border-radius: 50%;\n",
              "      cursor: pointer;\n",
              "      display: none;\n",
              "      fill: #1967D2;\n",
              "      height: 32px;\n",
              "      padding: 0 0 0 0;\n",
              "      width: 32px;\n",
              "    }\n",
              "\n",
              "    .colab-df-convert:hover {\n",
              "      background-color: #E2EBFA;\n",
              "      box-shadow: 0px 1px 2px rgba(60, 64, 67, 0.3), 0px 1px 3px 1px rgba(60, 64, 67, 0.15);\n",
              "      fill: #174EA6;\n",
              "    }\n",
              "\n",
              "    .colab-df-buttons div {\n",
              "      margin-bottom: 4px;\n",
              "    }\n",
              "\n",
              "    [theme=dark] .colab-df-convert {\n",
              "      background-color: #3B4455;\n",
              "      fill: #D2E3FC;\n",
              "    }\n",
              "\n",
              "    [theme=dark] .colab-df-convert:hover {\n",
              "      background-color: #434B5C;\n",
              "      box-shadow: 0px 1px 3px 1px rgba(0, 0, 0, 0.15);\n",
              "      filter: drop-shadow(0px 1px 2px rgba(0, 0, 0, 0.3));\n",
              "      fill: #FFFFFF;\n",
              "    }\n",
              "  </style>\n",
              "\n",
              "    <script>\n",
              "      const buttonEl =\n",
              "        document.querySelector('#df-c560cba3-3300-4b78-aa14-eb32124d7c10 button.colab-df-convert');\n",
              "      buttonEl.style.display =\n",
              "        google.colab.kernel.accessAllowed ? 'block' : 'none';\n",
              "\n",
              "      async function convertToInteractive(key) {\n",
              "        const element = document.querySelector('#df-c560cba3-3300-4b78-aa14-eb32124d7c10');\n",
              "        const dataTable =\n",
              "          await google.colab.kernel.invokeFunction('convertToInteractive',\n",
              "                                                    [key], {});\n",
              "        if (!dataTable) return;\n",
              "\n",
              "        const docLinkHtml = 'Like what you see? Visit the ' +\n",
              "          '<a target=\"_blank\" href=https://colab.research.google.com/notebooks/data_table.ipynb>data table notebook</a>'\n",
              "          + ' to learn more about interactive tables.';\n",
              "        element.innerHTML = '';\n",
              "        dataTable['output_type'] = 'display_data';\n",
              "        await google.colab.output.renderOutput(dataTable, element);\n",
              "        const docLink = document.createElement('div');\n",
              "        docLink.innerHTML = docLinkHtml;\n",
              "        element.appendChild(docLink);\n",
              "      }\n",
              "    </script>\n",
              "  </div>\n",
              "\n",
              "\n",
              "<div id=\"df-8638529b-7a85-4e1d-a7a7-eb3bade4328c\">\n",
              "  <button class=\"colab-df-quickchart\" onclick=\"quickchart('df-8638529b-7a85-4e1d-a7a7-eb3bade4328c')\"\n",
              "            title=\"Suggest charts\"\n",
              "            style=\"display:none;\">\n",
              "\n",
              "<svg xmlns=\"http://www.w3.org/2000/svg\" height=\"24px\"viewBox=\"0 0 24 24\"\n",
              "     width=\"24px\">\n",
              "    <g>\n",
              "        <path d=\"M19 3H5c-1.1 0-2 .9-2 2v14c0 1.1.9 2 2 2h14c1.1 0 2-.9 2-2V5c0-1.1-.9-2-2-2zM9 17H7v-7h2v7zm4 0h-2V7h2v10zm4 0h-2v-4h2v4z\"/>\n",
              "    </g>\n",
              "</svg>\n",
              "  </button>\n",
              "\n",
              "<style>\n",
              "  .colab-df-quickchart {\n",
              "      --bg-color: #E8F0FE;\n",
              "      --fill-color: #1967D2;\n",
              "      --hover-bg-color: #E2EBFA;\n",
              "      --hover-fill-color: #174EA6;\n",
              "      --disabled-fill-color: #AAA;\n",
              "      --disabled-bg-color: #DDD;\n",
              "  }\n",
              "\n",
              "  [theme=dark] .colab-df-quickchart {\n",
              "      --bg-color: #3B4455;\n",
              "      --fill-color: #D2E3FC;\n",
              "      --hover-bg-color: #434B5C;\n",
              "      --hover-fill-color: #FFFFFF;\n",
              "      --disabled-bg-color: #3B4455;\n",
              "      --disabled-fill-color: #666;\n",
              "  }\n",
              "\n",
              "  .colab-df-quickchart {\n",
              "    background-color: var(--bg-color);\n",
              "    border: none;\n",
              "    border-radius: 50%;\n",
              "    cursor: pointer;\n",
              "    display: none;\n",
              "    fill: var(--fill-color);\n",
              "    height: 32px;\n",
              "    padding: 0;\n",
              "    width: 32px;\n",
              "  }\n",
              "\n",
              "  .colab-df-quickchart:hover {\n",
              "    background-color: var(--hover-bg-color);\n",
              "    box-shadow: 0 1px 2px rgba(60, 64, 67, 0.3), 0 1px 3px 1px rgba(60, 64, 67, 0.15);\n",
              "    fill: var(--button-hover-fill-color);\n",
              "  }\n",
              "\n",
              "  .colab-df-quickchart-complete:disabled,\n",
              "  .colab-df-quickchart-complete:disabled:hover {\n",
              "    background-color: var(--disabled-bg-color);\n",
              "    fill: var(--disabled-fill-color);\n",
              "    box-shadow: none;\n",
              "  }\n",
              "\n",
              "  .colab-df-spinner {\n",
              "    border: 2px solid var(--fill-color);\n",
              "    border-color: transparent;\n",
              "    border-bottom-color: var(--fill-color);\n",
              "    animation:\n",
              "      spin 1s steps(1) infinite;\n",
              "  }\n",
              "\n",
              "  @keyframes spin {\n",
              "    0% {\n",
              "      border-color: transparent;\n",
              "      border-bottom-color: var(--fill-color);\n",
              "      border-left-color: var(--fill-color);\n",
              "    }\n",
              "    20% {\n",
              "      border-color: transparent;\n",
              "      border-left-color: var(--fill-color);\n",
              "      border-top-color: var(--fill-color);\n",
              "    }\n",
              "    30% {\n",
              "      border-color: transparent;\n",
              "      border-left-color: var(--fill-color);\n",
              "      border-top-color: var(--fill-color);\n",
              "      border-right-color: var(--fill-color);\n",
              "    }\n",
              "    40% {\n",
              "      border-color: transparent;\n",
              "      border-right-color: var(--fill-color);\n",
              "      border-top-color: var(--fill-color);\n",
              "    }\n",
              "    60% {\n",
              "      border-color: transparent;\n",
              "      border-right-color: var(--fill-color);\n",
              "    }\n",
              "    80% {\n",
              "      border-color: transparent;\n",
              "      border-right-color: var(--fill-color);\n",
              "      border-bottom-color: var(--fill-color);\n",
              "    }\n",
              "    90% {\n",
              "      border-color: transparent;\n",
              "      border-bottom-color: var(--fill-color);\n",
              "    }\n",
              "  }\n",
              "</style>\n",
              "\n",
              "  <script>\n",
              "    async function quickchart(key) {\n",
              "      const quickchartButtonEl =\n",
              "        document.querySelector('#' + key + ' button');\n",
              "      quickchartButtonEl.disabled = true;  // To prevent multiple clicks.\n",
              "      quickchartButtonEl.classList.add('colab-df-spinner');\n",
              "      try {\n",
              "        const charts = await google.colab.kernel.invokeFunction(\n",
              "            'suggestCharts', [key], {});\n",
              "      } catch (error) {\n",
              "        console.error('Error during call to suggestCharts:', error);\n",
              "      }\n",
              "      quickchartButtonEl.classList.remove('colab-df-spinner');\n",
              "      quickchartButtonEl.classList.add('colab-df-quickchart-complete');\n",
              "    }\n",
              "    (() => {\n",
              "      let quickchartButtonEl =\n",
              "        document.querySelector('#df-8638529b-7a85-4e1d-a7a7-eb3bade4328c button');\n",
              "      quickchartButtonEl.style.display =\n",
              "        google.colab.kernel.accessAllowed ? 'block' : 'none';\n",
              "    })();\n",
              "  </script>\n",
              "</div>\n",
              "    </div>\n",
              "  </div>\n"
            ],
            "text/plain": [
              "            class     alcohol  malic_acid         ash  alcalinity_of_ash  \\\n",
              "count  178.000000  178.000000  178.000000  178.000000         178.000000   \n",
              "mean     1.938202   13.000618    2.336348    2.366517          19.494944   \n",
              "std      0.775035    0.811827    1.117146    0.274344           3.339564   \n",
              "min      1.000000   11.030000    0.740000    1.360000          10.600000   \n",
              "25%      1.000000   12.362500    1.602500    2.210000          17.200000   \n",
              "50%      2.000000   13.050000    1.865000    2.360000          19.500000   \n",
              "75%      3.000000   13.677500    3.082500    2.557500          21.500000   \n",
              "max      3.000000   14.830000    5.800000    3.230000          30.000000   \n",
              "\n",
              "        magnesium  total_phenols  flavanoids  nonflavanoid_phenols  \\\n",
              "count  178.000000     178.000000  178.000000            178.000000   \n",
              "mean    99.741573       2.295112    2.029270              0.361854   \n",
              "std     14.282484       0.625851    0.998859              0.124453   \n",
              "min     70.000000       0.980000    0.340000              0.130000   \n",
              "25%     88.000000       1.742500    1.205000              0.270000   \n",
              "50%     98.000000       2.355000    2.135000              0.340000   \n",
              "75%    107.000000       2.800000    2.875000              0.437500   \n",
              "max    162.000000       3.880000    5.080000              0.660000   \n",
              "\n",
              "       proanthocyanins  color_intensity         hue  \\\n",
              "count       178.000000       178.000000  178.000000   \n",
              "mean          1.590899         5.058090    0.957449   \n",
              "std           0.572359         2.318286    0.228572   \n",
              "min           0.410000         1.280000    0.480000   \n",
              "25%           1.250000         3.220000    0.782500   \n",
              "50%           1.555000         4.690000    0.965000   \n",
              "75%           1.950000         6.200000    1.120000   \n",
              "max           3.580000        13.000000    1.710000   \n",
              "\n",
              "       OD280/OD315_of_diluted_wines      proline  \n",
              "count                    178.000000   178.000000  \n",
              "mean                       2.611685   746.893258  \n",
              "std                        0.709990   314.907474  \n",
              "min                        1.270000   278.000000  \n",
              "25%                        1.937500   500.500000  \n",
              "50%                        2.780000   673.500000  \n",
              "75%                        3.170000   985.000000  \n",
              "max                        4.000000  1680.000000  "
            ]
          },
          "execution_count": 20,
          "metadata": {},
          "output_type": "execute_result"
        }
      ],
      "source": [
        "# print basic statistics per feature\n",
        "df.describe()"
      ]
    },
    {
      "cell_type": "code",
      "execution_count": 9,
      "id": "231a08a9-9929-4017-a57f-73fd9eb73611",
      "metadata": {
        "id": "231a08a9-9929-4017-a57f-73fd9eb73611"
      },
      "outputs": [],
      "source": [
        "# extract the features and the target variable\n",
        "X = df.iloc[:, 1:].values      # features (all rows, from the second to the last column)\n",
        "y = df.iloc[:, 0].values      # target (all rows, only first column)"
      ]
    },
    {
      "cell_type": "code",
      "execution_count": 22,
      "id": "4126347f-f5b8-46dc-9f8f-5f02036331e9",
      "metadata": {
        "colab": {
          "base_uri": "https://localhost:8080/",
          "height": 611
        },
        "id": "4126347f-f5b8-46dc-9f8f-5f02036331e9",
        "outputId": "1595d019-6969-4869-a8d0-b023c2ef3f72"
      },
      "outputs": [
        {
          "name": "stdout",
          "output_type": "stream",
          "text": [
            "Best combination (ACC: 0.989): (0, 2, 4, 5, 6, 9, 12)\n",
            "\n"
          ]
        },
        {
          "data": {
            "text/plain": [
              "(<Figure size 600x600 with 1 Axes>,\n",
              " <Axes: xlabel='Number of Features', ylabel='Performance'>)"
            ]
          },
          "execution_count": 22,
          "metadata": {},
          "output_type": "execute_result"
        },
        {
          "data": {
            "image/png": "[encoded data removed]",
            "text/plain": [
              "<Figure size 600x600 with 1 Axes>"
            ]
          },
          "metadata": {},
          "output_type": "display_data"
        }
      ],
      "source": [
        "# create a Random Forest Classifier object with default values\n",
        "rfc = RandomForestClassifier()\n",
        "\n",
        "# Run sequential forward selection from 1 to 13 features\n",
        "# ANSWER: Accuracy is a commonly used metric for classification tasks, including in wine classification problems.\n",
        "#It represents the proportion of correctly classified instances out of the total instances.\n",
        "#In the context of wine classification, where you're trying to predict the class of the wine based on its attributes,\n",
        "#accuracy tells you how often your classifier is correctly predicting the wine class.\n",
        "sfs_range = SFS(estimator=rfc,\n",
        "                k_features=(1, 13),\n",
        "                forward=True,\n",
        "                floating=False,\n",
        "                scoring='accuracy',\n",
        "                cv=5)\n",
        "\n",
        "# Train the sequential forward selection object\n",
        "sfs_range.fit(X, y)\n",
        "\n",
        "# Print the accuracy of the best combination as well as the set of best features\n",
        "print('Best combination (ACC: %.3f): %s\\n' % (sfs_range.k_score_, sfs_range.k_feature_idx_))\n",
        "\n",
        "# Use the plot_sfs to visualize all accuracies\n",
        "plt.rcParams[\"figure.figsize\"] = (6,6)\n",
        "plot_sfs(sfs_range.get_metric_dict(), kind='std_err')\n"
      ]
    },
    {
      "cell_type": "code",
      "execution_count": 23,
      "id": "cde87681-2495-4406-a3eb-e66f97d91c1f",
      "metadata": {
        "id": "cde87681-2495-4406-a3eb-e66f97d91c1f"
      },
      "outputs": [],
      "source": [
        "# keep the most important features from X dataset that maximize the accuracy\n",
        "# Generate (transform) the new subsets based on the selected features\n",
        "X_sfs = sfs_range.transform(X)"
      ]
    },
    {
      "cell_type": "code",
      "execution_count": 24,
      "id": "ab14f849-53e9-4fb0-b02a-6727c6e26ef8",
      "metadata": {
        "id": "ab14f849-53e9-4fb0-b02a-6727c6e26ef8"
      },
      "outputs": [],
      "source": [
        "# Split X_sfs and y datasets into: training dataset - 80%, test - 20%; set random_state param to 0\n",
        "X_train, X_test, y_train, y_test = train_test_split(X_sfs, y, test_size=0.2, random_state=0)"
      ]
    },
    {
      "cell_type": "code",
      "execution_count": 26,
      "id": "71a4ff1a-1ed7-4a67-a843-edc0300852f1",
      "metadata": {
        "colab": {
          "base_uri": "https://localhost:8080/"
        },
        "id": "71a4ff1a-1ed7-4a67-a843-edc0300852f1",
        "outputId": "03178db7-3f84-403f-d583-649145819891"
      },
      "outputs": [
        {
          "name": "stdout",
          "output_type": "stream",
          "text": [
            "Decision Tree score: 0.9507389162561577 - best params: {'criterion': 'gini', 'max_depth': 50}\n"
          ]
        },
        {
          "name": "stderr",
          "output_type": "stream",
          "text": [
            "/usr/local/lib/python3.10/dist-packages/sklearn/ensemble/_forest.py:424: FutureWarning: `max_features='auto'` has been deprecated in 1.1 and will be removed in 1.3. To keep the past behaviour, explicitly set `max_features='sqrt'` or remove this parameter as it is also the default value for RandomForestClassifiers and ExtraTreesClassifiers.\n",
            "  warn(\n"
          ]
        },
        {
          "name": "stdout",
          "output_type": "stream",
          "text": [
            "Random Forest score: 0.9862068965517242 - best params: {'criterion': 'gini', 'max_depth': 2, 'max_features': 'auto', 'n_estimators': 200}\n",
            "Ada Boost score: 0.9650246305418719 - best params: {'learning_rate': 0.01, 'n_estimators': 500}\n",
            "Gradient Boosting score: 1.0 - best params: {'learning_rate': 0.001, 'max_depth': 4, 'max_features': 'sqrt', 'n_estimators': 500, 'subsample': 0.8}\n",
            "K Nearest Neighbors score: 0.767487684729064 - best params: {'n_neighbors': 1}\n",
            "Gaussian Naive Bayes score: 0.9790640394088671 - best params: {'var_smoothing': 2.848035868435799e-06}\n",
            "Support Vector Machines score: 0.9440886699507389 - best params: {'C': 0.1, 'gamma': 0.001, 'kernel': 'poly'}\n"
          ]
        }
      ],
      "source": [
        "# perform grid search CV on a number of classifiers to find the best along with the set of\n",
        "# its best parameters\n",
        "\n",
        "# names list is used for printing results purposes\n",
        "names = [\n",
        "         \"Decision Tree\",\n",
        "         \"Random Forest\",\n",
        "         \"Ada Boost\",\n",
        "         \"Gradient Boosting\",\n",
        "         \"K Nearest Neighbors\",\n",
        "         \"Gaussian Naive Bayes\",\n",
        "         \"Support Vector Machines\"\n",
        "]\n",
        "\n",
        "classifiers = [\n",
        "    DecisionTreeClassifier(),\n",
        "    RandomForestClassifier(),\n",
        "    AdaBoostClassifier(),\n",
        "    GradientBoostingClassifier(),\n",
        "    KNeighborsClassifier(),\n",
        "    GaussianNB(),\n",
        "    SVC()\n",
        "]\n",
        "\n",
        "parameters = [\n",
        "              {'criterion': ['gini', 'entropy'], 'max_depth': [10,20,50]},\n",
        "              {'n_estimators': [200, 500, 750], 'max_features': ['auto', 'sqrt', 'log2'],\n",
        "               'max_depth' : [2,3,4], 'criterion' :['gini', 'entropy']},\n",
        "              {'learning_rate': [0.001, 0.01, 0.025], 'n_estimators': [100, 500, 750]},\n",
        "              {'learning_rate': [0.001, 0.01, 0.025], 'max_depth':[3,4],\n",
        "               'max_features': [\"log2\",\"sqrt\"], 'subsample': [0.8, 0.9, 1.0],\n",
        "               'n_estimators': [100, 500, 750]},\n",
        "              {'n_neighbors': [1, 2, 3, 5]},\n",
        "              {'var_smoothing': np.logspace(0,-9, num=100)},\n",
        "              {'C': [0.1,1, 10, 100], 'gamma': [1,0.1,0.01,0.001],\n",
        "               'kernel': ['rbf', 'poly', 'sigmoid']}\n",
        "]\n",
        "\n",
        "# print results\n",
        "for name, classifier, params in zip(names, classifiers, parameters):\n",
        "    gs = GridSearchCV(classifier, param_grid=params, scoring='accuracy', n_jobs=-1)\n",
        "    gs.fit(X_train, y_train)\n",
        "    print(\"{} score: {} - best params: {}\".format(name, gs.best_score_, gs.best_params_))"
      ]
    },
    {
      "cell_type": "code",
      "execution_count": 27,
      "id": "c11d2d90-7d25-41f7-b689-76ccd85d105e",
      "metadata": {
        "colab": {
          "base_uri": "https://localhost:8080/"
        },
        "id": "c11d2d90-7d25-41f7-b689-76ccd85d105e",
        "outputId": "753a5839-c1df-4e5e-f4c8-7e9f5a4f29f1"
      },
      "outputs": [
        {
          "name": "stderr",
          "output_type": "stream",
          "text": [
            "/usr/local/lib/python3.10/dist-packages/sklearn/ensemble/_forest.py:424: FutureWarning: `max_features='auto'` has been deprecated in 1.1 and will be removed in 1.3. To keep the past behaviour, explicitly set `max_features='sqrt'` or remove this parameter as it is also the default value for RandomForestClassifiers and ExtraTreesClassifiers.\n",
            "  warn(\n"
          ]
        },
        {
          "name": "stdout",
          "output_type": "stream",
          "text": [
            "Final accuracy on unseen data: 0.9444444444444444\n"
          ]
        }
      ],
      "source": [
        "# create a model involving the estimator along with its best parameters obtained by the\n",
        "# process above\n",
        "best_classifier = RandomForestClassifier(**{'criterion': 'gini', 'max_depth': 2, 'max_features': 'auto', 'n_estimators': 200})\n",
        "# Train the model\n",
        "best_classifier.fit(X_train, y_train)\n",
        "# Predict the output of the X_test dataset\n",
        "y_pred = best_classifier.predict(X_test)\n",
        "# Print the accuracy of the model on the unseen data\n",
        "print(\"Final accuracy on unseen data:\", accuracy_score(y_pred, y_test))"
      ]
    },
    {
      "cell_type": "code",
      "execution_count": null,
      "id": "QL0AKzItO4LT",
      "metadata": {
        "id": "QL0AKzItO4LT"
      },
      "outputs": [],
      "source": []
    }
  ],
  "metadata": {
    "colab": {
      "provenance": []
    },
    "kernelspec": {
      "display_name": "Python 3 (ipykernel)",
      "language": "python",
      "name": "python3"
    },
    "language_info": {
      "codemirror_mode": {
        "name": "ipython",
        "version": 3
      },
      "file_extension": ".py",
      "mimetype": "text/x-python",
      "name": "python",
      "nbconvert_exporter": "python",
      "pygments_lexer": "ipython3",
      "version": "3.11.5"
    }
  },
  "nbformat": 4,
  "nbformat_minor": 5
}
